{
 "cells": [
  {
   "cell_type": "code",
   "execution_count": 27,
   "id": "2ef3675e",
   "metadata": {},
   "outputs": [
    {
     "name": "stdout",
     "output_type": "stream",
     "text": [
      "Warning: Looks like you're using an outdated `kagglehub` version, please consider updating (latest version: 0.3.12)\n",
      "Path to dataset files: /Users/ashokpaudelapril/.cache/kagglehub/datasets/muhammadhananasghar/oace-open-and-close-eyes-dataset/versions/1\n"
     ]
    }
   ],
   "source": [
    "import kagglehub\n",
    "\n",
    "# Download latest version\n",
    "path = kagglehub.dataset_download(\"muhammadhananasghar/oace-open-and-close-eyes-dataset\")\n",
    "\n",
    "print(\"Path to dataset files:\", path)\n"
   ]
  },
  {
   "cell_type": "code",
   "execution_count": 28,
   "id": "4aa301ea",
   "metadata": {},
   "outputs": [],
   "source": [
    "import os\n",
    "\n",
    "# Save current directory (optional)\n",
    "original_dir = os.getcwd()"
   ]
  },
  {
   "cell_type": "code",
   "execution_count": 29,
   "id": "60cc1d62",
   "metadata": {},
   "outputs": [
    {
     "name": "stdout",
     "output_type": "stream",
     "text": [
      "Dataset contents copied to: /Users/ashokpaudelapril/Drowsiness_Detection/dataset\n"
     ]
    }
   ],
   "source": [
    "import shutil\n",
    "\n",
    "# Define destination dataset folder inside original_dir\n",
    "dataset_dir = os.path.join(original_dir, \"dataset\")\n",
    "\n",
    "# Create the dataset folder if it doesn't exist\n",
    "os.makedirs(dataset_dir, exist_ok=True)\n",
    "\n",
    "# Copy all files and subfolders from dataset_path to dataset_dir\n",
    "for item in os.listdir(path):\n",
    "    s = os.path.join(path, item)\n",
    "    d = os.path.join(dataset_dir, item)\n",
    "    if os.path.isdir(s):\n",
    "        shutil.copytree(s, d, dirs_exist_ok=True)\n",
    "    else:\n",
    "        shutil.copy2(s, d)\n",
    "\n",
    "print(f\"Dataset contents copied to: {dataset_dir}\")\n"
   ]
  },
  {
   "cell_type": "code",
   "execution_count": 30,
   "id": "ffb12cd9",
   "metadata": {},
   "outputs": [],
   "source": [
    "import tensorflow as tf\n",
    "from tensorflow.keras import layers, models\n",
    "import matplotlib.pyplot as plt"
   ]
  },
  {
   "cell_type": "code",
   "execution_count": 31,
   "id": "029b8367",
   "metadata": {},
   "outputs": [],
   "source": [
    "# === CONFIG ===\n",
    "dataset_path = \"dataset/OACE\"  # Change if your folder is named differently\n",
    "img_size = (64, 64)\n",
    "batch_size = 32\n",
    "epochs = 10"
   ]
  },
  {
   "cell_type": "code",
   "execution_count": 32,
   "id": "73f0f645",
   "metadata": {},
   "outputs": [
    {
     "name": "stdout",
     "output_type": "stream",
     "text": [
      "Found 97860 files belonging to 2 classes.\n",
      "Using 78288 files for training.\n",
      "Found 97860 files belonging to 2 classes.\n",
      "Using 19572 files for validation.\n"
     ]
    }
   ],
   "source": [
    "# === LOAD DATA ===\n",
    "train_ds = tf.keras.preprocessing.image_dataset_from_directory(\n",
    "    dataset_path,\n",
    "    validation_split=0.2,\n",
    "    subset=\"training\",\n",
    "    seed=42,\n",
    "    image_size=img_size,\n",
    "    batch_size=batch_size,\n",
    "    label_mode='binary'\n",
    ")\n",
    "\n",
    "val_ds = tf.keras.preprocessing.image_dataset_from_directory(\n",
    "    dataset_path,\n",
    "    validation_split=0.2,\n",
    "    subset=\"validation\",\n",
    "    seed=42,\n",
    "    image_size=img_size,\n",
    "    batch_size=batch_size,\n",
    "    label_mode='binary'\n",
    ")\n"
   ]
  },
  {
   "cell_type": "code",
   "execution_count": 33,
   "id": "0de33246",
   "metadata": {},
   "outputs": [],
   "source": [
    "# === PREFETCH FOR PERFORMANCE ===\n",
    "AUTOTUNE = tf.data.AUTOTUNE\n",
    "train_ds = train_ds.prefetch(buffer_size=AUTOTUNE)\n",
    "val_ds = val_ds.prefetch(buffer_size=AUTOTUNE)"
   ]
  },
  {
   "cell_type": "code",
   "execution_count": 34,
   "id": "bea25499",
   "metadata": {},
   "outputs": [],
   "source": [
    "# === BUILD MODEL ===\n",
    "model = models.Sequential([\n",
    "    layers.Rescaling(1./255, input_shape=img_size + (3,)),\n",
    "    \n",
    "    layers.Conv2D(32, (3, 3), activation='relu'),\n",
    "    layers.MaxPooling2D(),\n",
    "\n",
    "    layers.Conv2D(64, (3, 3), activation='relu'),\n",
    "    layers.MaxPooling2D(),\n",
    "\n",
    "    layers.Conv2D(128, (3, 3), activation='relu'),\n",
    "    layers.MaxPooling2D(),\n",
    "\n",
    "    layers.Flatten(),\n",
    "    layers.Dense(64, activation='relu'),\n",
    "    layers.Dropout(0.3),\n",
    "    layers.Dense(1, activation='sigmoid')  # Binary classification\n",
    "])\n",
    "\n",
    "model.compile(\n",
    "    optimizer='adam',\n",
    "    loss='binary_crossentropy',\n",
    "    metrics=['accuracy']\n",
    ")"
   ]
  },
  {
   "cell_type": "code",
   "execution_count": 35,
   "id": "97c436bb",
   "metadata": {},
   "outputs": [
    {
     "name": "stdout",
     "output_type": "stream",
     "text": [
      "Epoch 1/10\n",
      "\u001b[1m2447/2447\u001b[0m \u001b[32m━━━━━━━━━━━━━━━━━━━━\u001b[0m\u001b[37m\u001b[0m \u001b[1m88s\u001b[0m 36ms/step - accuracy: 0.9153 - loss: 0.2019 - val_accuracy: 0.9837 - val_loss: 0.0487\n",
      "Epoch 2/10\n",
      "\u001b[1m2447/2447\u001b[0m \u001b[32m━━━━━━━━━━━━━━━━━━━━\u001b[0m\u001b[37m\u001b[0m \u001b[1m95s\u001b[0m 39ms/step - accuracy: 0.9851 - loss: 0.0417 - val_accuracy: 0.9922 - val_loss: 0.0194\n",
      "Epoch 3/10\n",
      "\u001b[1m2447/2447\u001b[0m \u001b[32m━━━━━━━━━━━━━━━━━━━━\u001b[0m\u001b[37m\u001b[0m \u001b[1m94s\u001b[0m 38ms/step - accuracy: 0.9914 - loss: 0.0241 - val_accuracy: 0.9934 - val_loss: 0.0175\n",
      "Epoch 4/10\n",
      "\u001b[1m2447/2447\u001b[0m \u001b[32m━━━━━━━━━━━━━━━━━━━━\u001b[0m\u001b[37m\u001b[0m \u001b[1m95s\u001b[0m 39ms/step - accuracy: 0.9940 - loss: 0.0162 - val_accuracy: 0.9942 - val_loss: 0.0161\n",
      "Epoch 5/10\n",
      "\u001b[1m2447/2447\u001b[0m \u001b[32m━━━━━━━━━━━━━━━━━━━━\u001b[0m\u001b[37m\u001b[0m \u001b[1m96s\u001b[0m 39ms/step - accuracy: 0.9952 - loss: 0.0131 - val_accuracy: 0.9946 - val_loss: 0.0183\n",
      "Epoch 6/10\n",
      "\u001b[1m2447/2447\u001b[0m \u001b[32m━━━━━━━━━━━━━━━━━━━━\u001b[0m\u001b[37m\u001b[0m \u001b[1m100s\u001b[0m 41ms/step - accuracy: 0.9960 - loss: 0.0133 - val_accuracy: 0.9965 - val_loss: 0.0121\n",
      "Epoch 7/10\n",
      "\u001b[1m2447/2447\u001b[0m \u001b[32m━━━━━━━━━━━━━━━━━━━━\u001b[0m\u001b[37m\u001b[0m \u001b[1m100s\u001b[0m 41ms/step - accuracy: 0.9971 - loss: 0.0088 - val_accuracy: 0.9970 - val_loss: 0.0092\n",
      "Epoch 8/10\n",
      "\u001b[1m2447/2447\u001b[0m \u001b[32m━━━━━━━━━━━━━━━━━━━━\u001b[0m\u001b[37m\u001b[0m \u001b[1m102s\u001b[0m 42ms/step - accuracy: 0.9966 - loss: 0.0102 - val_accuracy: 0.9973 - val_loss: 0.0104\n",
      "Epoch 9/10\n",
      "\u001b[1m2447/2447\u001b[0m \u001b[32m━━━━━━━━━━━━━━━━━━━━\u001b[0m\u001b[37m\u001b[0m \u001b[1m102s\u001b[0m 42ms/step - accuracy: 0.9973 - loss: 0.0084 - val_accuracy: 0.9953 - val_loss: 0.0191\n",
      "Epoch 10/10\n",
      "\u001b[1m2447/2447\u001b[0m \u001b[32m━━━━━━━━━━━━━━━━━━━━\u001b[0m\u001b[37m\u001b[0m \u001b[1m101s\u001b[0m 41ms/step - accuracy: 0.9977 - loss: 0.0066 - val_accuracy: 0.9975 - val_loss: 0.0089\n"
     ]
    }
   ],
   "source": [
    "# === TRAIN MODEL ===\n",
    "history = model.fit(\n",
    "    train_ds,\n",
    "    validation_data=val_ds,\n",
    "    epochs=epochs\n",
    ")\n"
   ]
  },
  {
   "cell_type": "code",
   "execution_count": 36,
   "id": "da7112d1",
   "metadata": {},
   "outputs": [],
   "source": [
    "# === SAVE MODEL ===\n",
    "from keras.saving import save_model\n",
    "save_model(model, \"drowsiness_detector_model.keras\")\n"
   ]
  },
  {
   "cell_type": "code",
   "execution_count": 37,
   "id": "7113ab4f",
   "metadata": {},
   "outputs": [
    {
     "data": {
      "image/png": "[encoded data removed]",
      "text/plain": [
       "<Figure size 640x480 with 1 Axes>"
      ]
     },
     "metadata": {},
     "output_type": "display_data"
    }
   ],
   "source": [
    "# === PLOT TRAINING HISTORY ===\n",
    "plt.plot(history.history['accuracy'], label='train accuracy')\n",
    "plt.plot(history.history['val_accuracy'], label='val accuracy')\n",
    "plt.title('Model Accuracy')\n",
    "plt.xlabel('Epoch')\n",
    "plt.ylabel('Accuracy')\n",
    "plt.legend()\n",
    "plt.show()"
   ]
  }
 ],
 "metadata": {
  "kernelspec": {
   "display_name": "base",
   "language": "python",
   "name": "python3"
  },
  "language_info": {
   "codemirror_mode": {
    "name": "ipython",
    "version": 3
   },
   "file_extension": ".py",
   "mimetype": "text/x-python",
   "name": "python",
   "nbconvert_exporter": "python",
   "pygments_lexer": "ipython3",
   "version": "3.12.2"
  }
 },
 "nbformat": 4,
 "nbformat_minor": 5
}
